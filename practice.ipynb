{
 "cells": [
  {
   "cell_type": "code",
   "execution_count": 2,
   "metadata": {},
   "outputs": [],
   "source": [
    "class Dog:\n",
    "    def __init__(self, name, breed):\n",
    "        self.name = name   # 속성\n",
    "        self.breed = breed # 속성\n",
    "    \n",
    "    def bark(self): # 메서드\n",
    "        print(f\"{self.name} says Woof!\")"
   ]
  },
  {
   "cell_type": "code",
   "execution_count": 3,
   "metadata": {},
   "outputs": [
    {
     "name": "stdout",
     "output_type": "stream",
     "text": [
      "Buddy\n",
      "Buddy says Woof!\n"
     ]
    }
   ],
   "source": [
    "my_dog = Dog(\"Buddy\", \"Golden Retriever\")\n",
    "print(my_dog.name)  # 출력: Buddy\n",
    "my_dog.bark()  # 출력: Buddy says Woof!\n"
   ]
  },
  {
   "cell_type": "code",
   "execution_count": 4,
   "metadata": {},
   "outputs": [
    {
     "name": "stdout",
     "output_type": "stream",
     "text": [
      "Dog barks\n"
     ]
    }
   ],
   "source": [
    "class Animal:\n",
    "    def speak(self):\n",
    "        print(\"Animal speaks\")\n",
    "        \n",
    "class Dog(Animal):\n",
    "    def speak(self):\n",
    "        print(\"Dog barks\")\n",
    "        \n",
    "dog = Dog()\n",
    "dog.speak()"
   ]
  },
  {
   "cell_type": "code",
   "execution_count": 5,
   "metadata": {},
   "outputs": [],
   "source": [
    "class Monster:\n",
    "    def say(self):\n",
    "        print(\"I am monster\")"
   ]
  },
  {
   "cell_type": "code",
   "execution_count": 6,
   "metadata": {},
   "outputs": [
    {
     "name": "stdout",
     "output_type": "stream",
     "text": [
      "I am monster\n"
     ]
    }
   ],
   "source": [
    "shark = Monster()\n",
    "shark.say()"
   ]
  },
  {
   "cell_type": "code",
   "execution_count": 7,
   "metadata": {},
   "outputs": [],
   "source": [
    "class Monster:\n",
    "    def __init__(self, name):\n",
    "        self.name = name\n",
    "    def say(self):\n",
    "        print(f\"I am {self.name}\")"
   ]
  },
  {
   "cell_type": "code",
   "execution_count": 8,
   "metadata": {},
   "outputs": [
    {
     "name": "stdout",
     "output_type": "stream",
     "text": [
      "I am 상어\n"
     ]
    }
   ],
   "source": [
    "shark = Monster(\"상어\")\n",
    "shark.say()"
   ]
  },
  {
   "cell_type": "code",
   "execution_count": 9,
   "metadata": {},
   "outputs": [],
   "source": [
    "# 부모 class 정의\n",
    "class Animal:\n",
    "    def __init__(self, name):\n",
    "        self.name = name\n",
    "    def speak(self):\n",
    "        return \"this animal makes a sound\"\n",
    "        \n",
    "# 자식 class 1\n",
    "class Dog(Animal):\n",
    "    def speak(self):\n",
    "        return f\"{self.name} says Woof!\"\n",
    "# 자식 class 2\n",
    "class Cat(Animal):\n",
    "    def speak(self):\n",
    "        return f\"{self.name} says Meow!\"\n",
    "    \n",
    "# 객체 생성 및 사용\n",
    "dog = Dog(\"Buddy\")\n",
    "cat = Cat(\"Kitty\")"
   ]
  },
  {
   "cell_type": "code",
   "execution_count": 10,
   "metadata": {},
   "outputs": [
    {
     "name": "stdout",
     "output_type": "stream",
     "text": [
      "Buddy says Woof!\n",
      "Kitty says Meow!\n"
     ]
    }
   ],
   "source": [
    "print (dog.speak())\n",
    "print (cat.speak())"
   ]
  },
  {
   "cell_type": "code",
   "execution_count": 11,
   "metadata": {},
   "outputs": [],
   "source": [
    "class Student:\n",
    "    def __init__(self, name, age):\n",
    "        self.name = name\n",
    "        self.age = age\n",
    "    def introduce(self):\n",
    "        print(f\"제 이름은 {self.name}이고 나이는 {self.age}입니다.\")"
   ]
  },
  {
   "cell_type": "code",
   "execution_count": 19,
   "metadata": {},
   "outputs": [
    {
     "name": "stdout",
     "output_type": "stream",
     "text": [
      "제 이름은 John이고 나이는 18입니다.\n"
     ]
    }
   ],
   "source": [
    "John = Student(\"John\", 18)\n",
    "John.introduce()"
   ]
  },
  {
   "cell_type": "code",
   "execution_count": 24,
   "metadata": {},
   "outputs": [
    {
     "ename": "SyntaxError",
     "evalue": "invalid syntax (2120664690.py, line 11)",
     "output_type": "error",
     "traceback": [
      "\u001b[1;36m  Cell \u001b[1;32mIn[24], line 11\u001b[1;36m\u001b[0m\n\u001b[1;33m    return (score * average_score)/sum(score):\u001b[0m\n\u001b[1;37m                                             ^\u001b[0m\n\u001b[1;31mSyntaxError\u001b[0m\u001b[1;31m:\u001b[0m invalid syntax\n"
     ]
    }
   ],
   "source": [
    "def total_score(subject, score, grade):\n",
    "    average_score = {\n",
    "        \"A+\":4.5, \"A0\":4.0, \"B+\":3.5,\n",
    "        \"B0\":3.0, \"C+\":2.5, \"C0\":2.0,\n",
    "        \"D+\":1.5, \"D0\":1.0, \"F\" : 0.0 \n",
    "    }\n",
    "\n",
    "\n",
    "    if 1 <= len(subject) <= 50:\n",
    "        if score in [1.0, 2.0, 3.0, 4.0] and all(grade in average_score):\n",
    "            return \n",
    "        \n",
    "            \n",
    "\n",
    "   \n",
    "    \n"
   ]
  },
  {
   "cell_type": "code",
   "execution_count": null,
   "metadata": {},
   "outputs": [],
   "source": []
  }
 ],
 "metadata": {
  "kernelspec": {
   "display_name": "Python 3",
   "language": "python",
   "name": "python3"
  },
  "language_info": {
   "codemirror_mode": {
    "name": "ipython",
    "version": 3
   },
   "file_extension": ".py",
   "mimetype": "text/x-python",
   "name": "python",
   "nbconvert_exporter": "python",
   "pygments_lexer": "ipython3",
   "version": "3.13.0"
  }
 },
 "nbformat": 4,
 "nbformat_minor": 2
}
