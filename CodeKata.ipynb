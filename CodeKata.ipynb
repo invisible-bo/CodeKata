{
 "cells": [
  {
   "cell_type": "code",
   "execution_count": null,
   "metadata": {},
   "outputs": [],
   "source": [
    "code practice"
   ]
  },
  {
   "cell_type": "code",
   "execution_count": 2,
   "metadata": {},
   "outputs": [],
   "source": [
    "def solution(my_string, s, e):\n",
    "    if 1 <= len(my_string) <= 1000 and 0 <= s <= e <len(my_string):\n",
    "        return my_string[:s] + my_string[s:e+1][::-1] + my_string[e+1:]\n"
   ]
  },
  {
   "cell_type": "code",
   "execution_count": 4,
   "metadata": {},
   "outputs": [],
   "source": [
    "def solution(n):\n",
    "    if 1 <= n <= 1000:\n",
    "        return str(n)"
   ]
  },
  {
   "cell_type": "code",
   "execution_count": 7,
   "metadata": {},
   "outputs": [],
   "source": [
    "def solution(n):\n",
    "    if 1 <= n <= 10000: \n",
    "        return [i for i in range(1, n + 1) if n % i == 0]  "
   ]
  },
  {
   "cell_type": "code",
   "execution_count": 9,
   "metadata": {},
   "outputs": [],
   "source": [
    "def solution(a,b):\n",
    "    if 1 <= a <= 100 and 1 <= b <= 100:\n",
    "        return f\"{a} + {b} = {a + b}\"\n"
   ]
  },
  {
   "cell_type": "code",
   "execution_count": 3,
   "metadata": {},
   "outputs": [],
   "source": [
    "def solution(array, n):\n",
    "    if 1 <= len(array) <= 100 and all(0 <= element <= 1000 for element in array) and 0 <= n <= 1000:\n",
    "        return array.count(n)\n",
    "     "
   ]
  },
  {
   "cell_type": "code",
   "execution_count": 4,
   "metadata": {},
   "outputs": [],
   "source": [
    "def solution(numbers, num1, num2):\n",
    "    if 2 <= len(numbers) <= 30 and all(0 <= element <= 1000 for element in numbers) and 0 <= num1 < num2 < len(numbers):\n",
    "        return numbers[num1:num2+1]\n"
   ]
  },
  {
   "cell_type": "code",
   "execution_count": 5,
   "metadata": {},
   "outputs": [],
   "source": [
    "def solution(rny_string):\n",
    "    if 1 <= len(rny_string) <= 100:\n",
    "        return rny_string.replace('m', 'rn')"
   ]
  },
  {
   "cell_type": "code",
   "execution_count": 1,
   "metadata": {},
   "outputs": [],
   "source": [
    "def solution(array, height):\n",
    "    if 1 <= len(array) <= 100 and 1<= height <= 200 and all(1 <= element <= 200 for element in array):\n",
    "        return sum(1 for element in array if element > height)"
   ]
  },
  {
   "cell_type": "code",
   "execution_count": 4,
   "metadata": {},
   "outputs": [],
   "source": [
    "def solution(my_string, n):\n",
    "    if 1 <= len(my_string) <= 1000 and 1 <= n <= len(my_string):\n",
    "        return my_string[0:n] "
   ]
  },
  {
   "cell_type": "code",
   "execution_count": 5,
   "metadata": {},
   "outputs": [],
   "source": [
    "def solution(num_list):\n",
    "    odd = \"\"  \n",
    "    even = \"\" \n",
    "\n",
    "    for num in num_list:  \n",
    "        if num % 2 == 0:  \n",
    "            even += str(num)\n",
    "        else:  \n",
    "            odd += str(num)\n",
    "\n",
    "    return int(odd) + int(even)  \n"
   ]
  },
  {
   "cell_type": "code",
   "execution_count": 1,
   "metadata": {},
   "outputs": [],
   "source": [
    "def solution(a, b, flag):\n",
    "    if -1000 <= a <= 1000 and -1000 <= b <= 1000:\n",
    "        if flag == true:\n",
    "            return a + b\n",
    "        else:\n",
    "            return a - b\n",
    "\n"
   ]
  },
  {
   "cell_type": "code",
   "execution_count": 5,
   "metadata": {},
   "outputs": [],
   "source": [
    "def solution(my_string):\n",
    "    vowels = \"aeiou\"\n",
    "    if 1 <= len(my_string) <= 1000:\n",
    "        return ''.join(char for char in my_string if char not in vowels)\n",
    "\n",
    "# join()은 리스트 []의 요소를 하나씩 가져옴\n",
    "# 각 요소를 빈 문자열 ''로 연결\n",
    "\n",
    "# 같은 내용\n",
    "# for char in my_string:\n",
    "   #  if char not in vowels:\n",
    "     #    print(char)\n",
    "\n",
    "\n"
   ]
  },
  {
   "cell_type": "code",
   "execution_count": 7,
   "metadata": {},
   "outputs": [],
   "source": [
    "def solution(my_string, n):\n",
    "    if 2 <= len(my_string) <= 5 and 2 <= n <= 10:\n",
    "        return ''.join(char * n for char in my_string)\n"
   ]
  },
  {
   "cell_type": "code",
   "execution_count": 9,
   "metadata": {},
   "outputs": [
    {
     "name": "stdout",
     "output_type": "stream",
     "text": [
      "AAABBBCCC\n"
     ]
    }
   ],
   "source": [
    "print(solution(\"ABC\", 3))"
   ]
  },
  {
   "cell_type": "code",
   "execution_count": null,
   "metadata": {},
   "outputs": [],
   "source": [
    "def solution(price):\n",
    "    if 10 <= price <= 1000000:\n",
    "        if price >= 500000:\n",
    "            return int(price * 0.8)\n",
    "        elif price >= 300000:\n",
    "            return int(price * 0.9)\n",
    "        elif price >= 100000:\n",
    "            return int(price * 0.95)\n",
    "        else:\n",
    "            return price"
   ]
  },
  {
   "cell_type": "code",
   "execution_count": 1,
   "metadata": {},
   "outputs": [],
   "source": [
    "def solution(n, k):\n",
    "    if 0 < n < 1000 and n / 10 <= k < 1000:\n",
    "        lamb_price = 12000\n",
    "        drink_price = 2000\n",
    "        free_drink = n // 10\n",
    "        total_price = (n * lamb_price) + ((k - free_drink) * drink_price)\n",
    "        return total_price\n"
   ]
  },
  {
   "cell_type": "code",
   "execution_count": 1,
   "metadata": {},
   "outputs": [],
   "source": [
    "def solution(n, t):\n",
    "    if 1 <= n <= 10 and 1 <= t <= 15:\n",
    "        return n * 2 * t"
   ]
  },
  {
   "cell_type": "code",
   "execution_count": 3,
   "metadata": {},
   "outputs": [],
   "source": [
    "def solution(num_list):\n",
    "    if 2 <= len(num_list) <= 20 and all(1 <= x <= 9 for x in num_list):\n",
    "        if len(num_list) >= 11:\n",
    "            return sum(num_list)\n",
    "        else:\n",
    "            result = 1\n",
    "            for num in num_list:\n",
    "                result *= num  \n",
    "            return result"
   ]
  },
  {
   "cell_type": "code",
   "execution_count": 6,
   "metadata": {},
   "outputs": [],
   "source": [
    "def solution(myString):\n",
    "    if 1 <= len(myString) <= 100000:\n",
    "        return myString.lower()"
   ]
  },
  {
   "cell_type": "code",
   "execution_count": 11,
   "metadata": {},
   "outputs": [],
   "source": [
    "def solution(my_string, k):\n",
    "    if 1 <= k <= 100 and 1 <= len(my_string) <= 100:\n",
    "        return (my_string) * k"
   ]
  },
  {
   "cell_type": "code",
   "execution_count": 13,
   "metadata": {},
   "outputs": [],
   "source": [
    "def solution(n_str):\n",
    "    if 1 <= n_str <= 5:\n",
    "        return int(n_str)"
   ]
  }
 ],
 "metadata": {
  "kernelspec": {
   "display_name": "Python 3",
   "language": "python",
   "name": "python3"
  },
  "language_info": {
   "codemirror_mode": {
    "name": "ipython",
    "version": 3
   },
   "file_extension": ".py",
   "mimetype": "text/x-python",
   "name": "python",
   "nbconvert_exporter": "python",
   "pygments_lexer": "ipython3",
   "version": "3.13.0"
  }
 },
 "nbformat": 4,
 "nbformat_minor": 2
}
