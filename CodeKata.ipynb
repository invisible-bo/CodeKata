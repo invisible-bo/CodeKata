{
 "cells": [
  {
   "cell_type": "code",
   "execution_count": null,
   "metadata": {},
   "outputs": [],
   "source": [
    "code practice"
   ]
  },
  {
   "cell_type": "code",
   "execution_count": 2,
   "metadata": {},
   "outputs": [],
   "source": [
    "def solution(my_string, s, e):\n",
    "    if 1 <= len(my_string) <= 1000 and 0 <= s <= e <len(my_string):\n",
    "        return my_string[:s] + my_string[s:e+1][::-1] + my_string[e+1:]\n"
   ]
  },
  {
   "cell_type": "code",
   "execution_count": 4,
   "metadata": {},
   "outputs": [],
   "source": [
    "def solution(n):\n",
    "    if 1 <= n <= 1000:\n",
    "        return str(n)"
   ]
  },
  {
   "cell_type": "code",
   "execution_count": 7,
   "metadata": {},
   "outputs": [],
   "source": [
    "def solution(n):\n",
    "    if 1 <= n <= 10000: \n",
    "        return [i for i in range(1, n + 1) if n % i == 0]  "
   ]
  },
  {
   "cell_type": "code",
   "execution_count": 9,
   "metadata": {},
   "outputs": [],
   "source": [
    "def solution(a,b):\n",
    "    if 1 <= a <= 100 and 1 <= b <= 100:\n",
    "        return f\"{a} + {b} = {a + b}\"\n"
   ]
  },
  {
   "cell_type": "code",
   "execution_count": 3,
   "metadata": {},
   "outputs": [],
   "source": [
    "def solution(array, n):\n",
    "    if 1 <= len(array) <= 100 and all(0 <= element <= 1000 for element in array) and 0 <= n <= 1000:\n",
    "        return array.count(n)\n",
    "     "
   ]
  },
  {
   "cell_type": "code",
   "execution_count": 4,
   "metadata": {},
   "outputs": [],
   "source": [
    "def solution(numbers, num1, num2):\n",
    "    if 2 <= len(numbers) <= 30 and all(0 <= element <= 1000 for element in numbers) and 0 <= num1 < num2 < len(numbers):\n",
    "        return numbers[num1:num2+1]\n"
   ]
  },
  {
   "cell_type": "code",
   "execution_count": 5,
   "metadata": {},
   "outputs": [],
   "source": [
    "def solution(rny_string):\n",
    "    if 1 <= len(rny_string) <= 100:\n",
    "        return rny_string.replace('m', 'rn')"
   ]
  },
  {
   "cell_type": "code",
   "execution_count": 6,
   "metadata": {},
   "outputs": [],
   "source": [
    "def solution(array, height):\n",
    "    if 1 <= len(array) <= 100 and 1<= height <= 200 and all(1 <= element <= 200 for element in array):\n",
    "        return sum(1 for element in array if element > height)"
   ]
  }
 ],
 "metadata": {
  "kernelspec": {
   "display_name": "Python 3",
   "language": "python",
   "name": "python3"
  },
  "language_info": {
   "codemirror_mode": {
    "name": "ipython",
    "version": 3
   },
   "file_extension": ".py",
   "mimetype": "text/x-python",
   "name": "python",
   "nbconvert_exporter": "python",
   "pygments_lexer": "ipython3",
   "version": "3.13.0"
  }
 },
 "nbformat": 4,
 "nbformat_minor": 2
}
